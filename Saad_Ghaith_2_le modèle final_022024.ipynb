{
 "cells": [
  {
   "cell_type": "code",
   "execution_count": null,
   "id": "da35935d",
   "metadata": {},
   "outputs": [],
   "source": [
    "import pandas as pd\n",
    "import pickle\n",
    "import statsmodels.api as sm  # Importez statsmodels\n",
    "\n",
    "# Charger le modèle sauvegardé\n",
    "with open('logistic_model.pkl', 'rb') as model_file:\n",
    "    loaded_model = pickle.load(model_file)\n",
    "\n",
    "# Charger le nouveau DataFrame de test\n",
    "new_data = pd.read_csv('')  # Remplacez par le nom de  fichier\n",
    "\n",
    "# Préparation des caractéristiques du nouveau DataFrame\n",
    "test_data = new_data.drop(['id', 'height_left', 'diagonal'], axis=1)  # Retirez les colonnes retirées lors de l'ajustement du modèle\n",
    "\n",
    "# Prédictions sur le DataFrame de test\n",
    "X_test_new = sm.add_constant(test_data)\n",
    "test_data['predicted_class'] = loaded_model.predict(X_test_new) >= 0.5\n",
    "test_data['predicted_probability'] = loaded_model.predict(X_test_new)\n",
    "\n",
    "# Calculer et ajuster les probabilités pour les billets faux\n",
    "test_data['predicted_probability'] = test_data.apply(lambda row: 1 - row['predicted_probability'] if not row['predicted_class'] else row['predicted_probability'], axis=1)\n",
    "\n",
    "# Arrondir les valeurs de pourcentage à 5 décimales\n",
    "test_data['predicted_probability'] = test_data['predicted_probability'].apply(lambda x: round(x, 5))\n",
    "test_data['predicted_class'] = test_data['predicted_class'].apply(lambda x: 'Vrai' if x else 'Faux')\n",
    "\n",
    "\n",
    "# Afficher le DataFrame de test avec les prédictions\n",
    "print(test_data)\n"
   ]
  }
 ],
 "metadata": {
  "kernelspec": {
   "display_name": "Python 3 (ipykernel)",
   "language": "python",
   "name": "python3"
  },
  "language_info": {
   "codemirror_mode": {
    "name": "ipython",
    "version": 3
   },
   "file_extension": ".py",
   "mimetype": "text/x-python",
   "name": "python",
   "nbconvert_exporter": "python",
   "pygments_lexer": "ipython3",
   "version": "3.10.9"
  }
 },
 "nbformat": 4,
 "nbformat_minor": 5
}
